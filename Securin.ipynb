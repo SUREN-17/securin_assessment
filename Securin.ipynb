{
 "cells": [
  {
   "cell_type": "code",
   "execution_count": 7,
   "id": "7c18a4a0-e9bd-4d28-8e3d-3068e5a491c0",
   "metadata": {},
   "outputs": [],
   "source": [
    "# dice has 6 faces\n",
    "\n",
    "number_of_faces = 5\n",
    "number_of_dices = 2"
   ]
  },
  {
   "cell_type": "code",
   "execution_count": 8,
   "id": "bc7eab57-0412-4686-bb03-e318d02b60aa",
   "metadata": {},
   "outputs": [
    {
     "name": "stdout",
     "output_type": "stream",
     "text": [
      "Total Combinations are 25.\n"
     ]
    }
   ],
   "source": [
    "# if two dices are rolled together then total combinations would be (number_of_faces) ^ (number_of_dices)\n",
    "\n",
    "total_combinations = (number_of_faces) ** (number_of_dices)\n",
    "\n",
    "print(f\"Total Combinations are {total_combinations}.\")"
   ]
  },
  {
   "cell_type": "code",
   "execution_count": 9,
   "id": "b7dac1ab-5f37-4a22-99c6-e4d7416a6bb2",
   "metadata": {},
   "outputs": [
    {
     "name": "stdout",
     "output_type": "stream",
     "text": [
      "[{'Sum': 2, 'Die A': 1, 'Die B': 1}, {'Sum': 3, 'Die A': 1, 'Die B': 2}, {'Sum': 4, 'Die A': 1, 'Die B': 3}, {'Sum': 5, 'Die A': 1, 'Die B': 4}, {'Sum': 6, 'Die A': 1, 'Die B': 5}, {'Sum': 3, 'Die A': 2, 'Die B': 1}, {'Sum': 4, 'Die A': 2, 'Die B': 2}, {'Sum': 5, 'Die A': 2, 'Die B': 3}, {'Sum': 6, 'Die A': 2, 'Die B': 4}, {'Sum': 7, 'Die A': 2, 'Die B': 5}, {'Sum': 4, 'Die A': 3, 'Die B': 1}, {'Sum': 5, 'Die A': 3, 'Die B': 2}, {'Sum': 6, 'Die A': 3, 'Die B': 3}, {'Sum': 7, 'Die A': 3, 'Die B': 4}, {'Sum': 8, 'Die A': 3, 'Die B': 5}, {'Sum': 5, 'Die A': 4, 'Die B': 1}, {'Sum': 6, 'Die A': 4, 'Die B': 2}, {'Sum': 7, 'Die A': 4, 'Die B': 3}, {'Sum': 8, 'Die A': 4, 'Die B': 4}, {'Sum': 9, 'Die A': 4, 'Die B': 5}, {'Sum': 6, 'Die A': 5, 'Die B': 1}, {'Sum': 7, 'Die A': 5, 'Die B': 2}, {'Sum': 8, 'Die A': 5, 'Die B': 3}, {'Sum': 9, 'Die A': 5, 'Die B': 4}, {'Sum': 10, 'Die A': 5, 'Die B': 5}]\n"
     ]
    }
   ],
   "source": [
    "# declare a list to store the distribution\n",
    "\n",
    "distributions = []\n",
    "\n",
    "# calculate distributiions and append result to distributions list\n",
    "for dice_1 in range(1, number_of_faces + 1):\n",
    "    for dice_2 in range(1, number_of_faces + 1):\n",
    "        total_comb = dice_1 + dice_2\n",
    "        result = {\n",
    "            \"Sum\" : total_comb,\n",
    "            \"Die A\" : dice_1,\n",
    "            \"Die B\" : dice_2\n",
    "        }\n",
    "        distributions.append(result)\n",
    "        \n",
    "print(distributions)"
   ]
  },
  {
   "cell_type": "code",
   "execution_count": 4,
   "id": "66522e71-f1a4-4de2-aa77-970d4bd2331c",
   "metadata": {},
   "outputs": [
    {
     "name": "stdout",
     "output_type": "stream",
     "text": [
      "{'2': '1/36', '3': '1/36', '4': '1/36', '5': '1/36', '6': '1/36', '7': '1/36', '8': '1/36', '9': '1/36', '10': '1/36', '11': '1/36', '12': '1/36'}\n"
     ]
    }
   ],
   "source": [
    "probability = {}\n",
    "\n",
    "for dice_1 in range(1, number_of_faces + 1):\n",
    "    for dice_2 in range(1, number_of_faces + 1):\n",
    "        total = dice_1 + dice_2\n",
    "        probability[str(total)] = str(probability.get(total, 0) + 1) + f\"/{total_combinations}\"\n",
    "        \n",
    "print(probability)"
   ]
  }
 ],
 "metadata": {
  "kernelspec": {
   "display_name": "Python 3 (ipykernel)",
   "language": "python",
   "name": "python3"
  },
  "language_info": {
   "codemirror_mode": {
    "name": "ipython",
    "version": 3
   },
   "file_extension": ".py",
   "mimetype": "text/x-python",
   "name": "python",
   "nbconvert_exporter": "python",
   "pygments_lexer": "ipython3",
   "version": "3.12.0"
  }
 },
 "nbformat": 4,
 "nbformat_minor": 5
}
