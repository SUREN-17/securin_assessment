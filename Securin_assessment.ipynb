{
 "cells": [
  {
   "cell_type": "code",
   "execution_count": 1,
   "id": "7c18a4a0-e9bd-4d28-8e3d-3068e5a491c0",
   "metadata": {},
   "outputs": [],
   "source": [
    "# dice has 6 faces\n",
    "\n",
    "number_of_faces = 6\n",
    "number_of_dices = 2"
   ]
  },
  {
   "cell_type": "code",
   "execution_count": 2,
   "id": "bc7eab57-0412-4686-bb03-e318d02b60aa",
   "metadata": {},
   "outputs": [
    {
     "name": "stdout",
     "output_type": "stream",
     "text": [
      "Total Combinations are 36.\n"
     ]
    }
   ],
   "source": [
    "# if two dices are rolled together then total combinations would be (number_of_faces) ^ (number_of_dices)\n",
    "\n",
    "total_combinations = (number_of_faces) ** (number_of_dices)\n",
    "\n",
    "print(f\"Total Combinations are {total_combinations}.\")"
   ]
  },
  {
   "cell_type": "code",
   "execution_count": 3,
   "id": "b7dac1ab-5f37-4a22-99c6-e4d7416a6bb2",
   "metadata": {},
   "outputs": [
    {
     "name": "stdout",
     "output_type": "stream",
     "text": [
      "[{'Sum': 2, 'Die A': 1, 'Die B': 1}, {'Sum': 3, 'Die A': 1, 'Die B': 2}, {'Sum': 4, 'Die A': 1, 'Die B': 3}, {'Sum': 5, 'Die A': 1, 'Die B': 4}, {'Sum': 6, 'Die A': 1, 'Die B': 5}, {'Sum': 7, 'Die A': 1, 'Die B': 6}, {'Sum': 3, 'Die A': 2, 'Die B': 1}, {'Sum': 4, 'Die A': 2, 'Die B': 2}, {'Sum': 5, 'Die A': 2, 'Die B': 3}, {'Sum': 6, 'Die A': 2, 'Die B': 4}, {'Sum': 7, 'Die A': 2, 'Die B': 5}, {'Sum': 8, 'Die A': 2, 'Die B': 6}, {'Sum': 4, 'Die A': 3, 'Die B': 1}, {'Sum': 5, 'Die A': 3, 'Die B': 2}, {'Sum': 6, 'Die A': 3, 'Die B': 3}, {'Sum': 7, 'Die A': 3, 'Die B': 4}, {'Sum': 8, 'Die A': 3, 'Die B': 5}, {'Sum': 9, 'Die A': 3, 'Die B': 6}, {'Sum': 5, 'Die A': 4, 'Die B': 1}, {'Sum': 6, 'Die A': 4, 'Die B': 2}, {'Sum': 7, 'Die A': 4, 'Die B': 3}, {'Sum': 8, 'Die A': 4, 'Die B': 4}, {'Sum': 9, 'Die A': 4, 'Die B': 5}, {'Sum': 10, 'Die A': 4, 'Die B': 6}, {'Sum': 6, 'Die A': 5, 'Die B': 1}, {'Sum': 7, 'Die A': 5, 'Die B': 2}, {'Sum': 8, 'Die A': 5, 'Die B': 3}, {'Sum': 9, 'Die A': 5, 'Die B': 4}, {'Sum': 10, 'Die A': 5, 'Die B': 5}, {'Sum': 11, 'Die A': 5, 'Die B': 6}, {'Sum': 7, 'Die A': 6, 'Die B': 1}, {'Sum': 8, 'Die A': 6, 'Die B': 2}, {'Sum': 9, 'Die A': 6, 'Die B': 3}, {'Sum': 10, 'Die A': 6, 'Die B': 4}, {'Sum': 11, 'Die A': 6, 'Die B': 5}, {'Sum': 12, 'Die A': 6, 'Die B': 6}]\n"
     ]
    }
   ],
   "source": [
    "# declare a list to store the distribution\n",
    "\n",
    "distributions = []\n",
    "\n",
    "# calculate distributiions and append result to distributions list\n",
    "for dice_1 in range(1, number_of_faces + 1):\n",
    "    for dice_2 in range(1, number_of_faces + 1):\n",
    "        total_comb = dice_1 + dice_2\n",
    "        result = {\n",
    "            \"Sum\" : total_comb,\n",
    "            \"Die A\" : dice_1,\n",
    "            \"Die B\" : dice_2\n",
    "        }\n",
    "        distributions.append(result)\n",
    "        \n",
    "print(distributions)"
   ]
  },
  {
   "cell_type": "code",
   "execution_count": 4,
   "id": "66522e71-f1a4-4de2-aa77-970d4bd2331c",
   "metadata": {},
   "outputs": [
    {
     "name": "stdout",
     "output_type": "stream",
     "text": [
      "{'2': '1/36', '3': '1/36', '4': '1/36', '5': '1/36', '6': '1/36', '7': '1/36', '8': '1/36', '9': '1/36', '10': '1/36', '11': '1/36', '12': '1/36'}\n"
     ]
    }
   ],
   "source": [
    "probability = {}\n",
    "\n",
    "for dice_1 in range(1, number_of_faces + 1):\n",
    "    for dice_2 in range(1, number_of_faces + 1):\n",
    "        total = dice_1 + dice_2\n",
    "        probability[str(total)] = str(probability.get(total, 0) + 1) + f\"/{total_combinations}\"\n",
    "        \n",
    "print(probability)"
   ]
  },
  {
   "cell_type": "code",
   "execution_count": null,
   "id": "fbb7ce19-cd6f-4233-8249-80d130ca1900",
   "metadata": {},
   "outputs": [],
   "source": [
    "#PART B"
   ]
  },
  {
   "cell_type": "code",
   "execution_count": 4,
   "id": "12c2ddc9-edc8-4737-adb8-f19b1cf756c2",
   "metadata": {},
   "outputs": [],
   "source": [
    "def get_dice_sums(dice):\n",
    "    sums = [sum(combination) for combination in product(*dice)]\n",
    "    return sums\n",
    "\n",
    "def generate_all_configurations(max_value, length):\n",
    "    def product(*args, repeat=1):\n",
    "        pools = [tuple(pool) for pool in args] * repeat\n",
    "        result = [[]]\n",
    "        for pool in pools:\n",
    "            result = [x + [y] for x in result for y in pool]\n",
    "        return result\n",
    "\n",
    "    return list(product(range(1, max_value + 1), repeat=length))\n",
    "\n",
    "def undoom_dice(Die_A, Die_B):\n",
    "    # Calculate original probabilities\n",
    "    original_sums = get_dice_sums([Die_A, Die_B])\n",
    "    unique_sums = set(original_sums)\n",
    "    original_probabilities = {sum_val: original_sums.count(sum_val) / len(original_sums) for sum_val in unique_sums}\n",
    "\n",
    "    # Generate all possible configurations for Die_A with no more than 4 spots\n",
    "    possible_configs_A = generate_all_configurations(4, len(Die_A))\n",
    "\n",
    "    # Filter configurations based on the original probabilities\n",
    "    valid_configs_A = [\n",
    "        config for config in possible_configs_A\n",
    "        if all(x <= 4 for x in config) and get_dice_sums([config, Die_B]) == original_sums\n",
    "    ]\n",
    "\n",
    "    if not valid_configs_A:\n",
    "        return Die_A, Die_B\n",
    "\n",
    "    new_die_A = valid_configs_A[0]\n",
    "\n",
    "    return new_die_A, Die_B\n"
   ]
  }
 ],
 "metadata": {
  "kernelspec": {
   "display_name": "Python 3 (ipykernel)",
   "language": "python",
   "name": "python3"
  },
  "language_info": {
   "codemirror_mode": {
    "name": "ipython",
    "version": 3
   },
   "file_extension": ".py",
   "mimetype": "text/x-python",
   "name": "python",
   "nbconvert_exporter": "python",
   "pygments_lexer": "ipython3",
   "version": "3.12.0"
  }
 },
 "nbformat": 4,
 "nbformat_minor": 5
}
