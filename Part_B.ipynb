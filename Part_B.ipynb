{
 "cells": [
  {
   "cell_type": "code",
   "execution_count": 1,
   "id": "50333149-56a3-4673-ba5d-0ab612c5fdb9",
   "metadata": {},
   "outputs": [
    {
     "name": "stdin",
     "output_type": "stream",
     "text": [
      "Enter values for Die_A separated by spaces:  1,2,3,4,5,6\n"
     ]
    },
    {
     "ename": "ValueError",
     "evalue": "invalid literal for int() with base 10: '1,2,3,4,5,6'",
     "output_type": "error",
     "traceback": [
      "\u001b[1;31m---------------------------------------------------------------------------\u001b[0m",
      "\u001b[1;31mValueError\u001b[0m                                Traceback (most recent call last)",
      "Cell \u001b[1;32mIn[1], line 13\u001b[0m\n\u001b[0;32m     10\u001b[0m     \u001b[38;5;28;01mreturn\u001b[39;00m valid_configs_A[\u001b[38;5;241m0\u001b[39m] \u001b[38;5;28;01mif\u001b[39;00m valid_configs_A \u001b[38;5;28;01melse\u001b[39;00m Die_A, Die_B\n\u001b[0;32m     12\u001b[0m \u001b[38;5;66;03m# Get input from the user for Die_A and Die_B\u001b[39;00m\n\u001b[1;32m---> 13\u001b[0m Die_A \u001b[38;5;241m=\u001b[39m \u001b[38;5;28;43mlist\u001b[39;49m\u001b[43m(\u001b[49m\u001b[38;5;28;43mmap\u001b[39;49m\u001b[43m(\u001b[49m\u001b[38;5;28;43mint\u001b[39;49m\u001b[43m,\u001b[49m\u001b[43m \u001b[49m\u001b[38;5;28;43minput\u001b[39;49m\u001b[43m(\u001b[49m\u001b[38;5;124;43m\"\u001b[39;49m\u001b[38;5;124;43mEnter values for Die_A separated by spaces: \u001b[39;49m\u001b[38;5;124;43m\"\u001b[39;49m\u001b[43m)\u001b[49m\u001b[38;5;241;43m.\u001b[39;49m\u001b[43msplit\u001b[49m\u001b[43m(\u001b[49m\u001b[43m)\u001b[49m\u001b[43m)\u001b[49m\u001b[43m)\u001b[49m\n\u001b[0;32m     14\u001b[0m Die_B \u001b[38;5;241m=\u001b[39m \u001b[38;5;28mlist\u001b[39m(\u001b[38;5;28mmap\u001b[39m(\u001b[38;5;28mint\u001b[39m, \u001b[38;5;28minput\u001b[39m(\u001b[38;5;124m\"\u001b[39m\u001b[38;5;124mEnter values for Die_B separated by spaces: \u001b[39m\u001b[38;5;124m\"\u001b[39m)\u001b[38;5;241m.\u001b[39msplit()))\n\u001b[0;32m     16\u001b[0m \u001b[38;5;66;03m# Call the undoom_dice function with user-inputted dice\u001b[39;00m\n",
      "\u001b[1;31mValueError\u001b[0m: invalid literal for int() with base 10: '1,2,3,4,5,6'"
     ]
    }
   ],
   "source": [
    "from itertools import product\n",
    "\n",
    "def get_dice_sums(dice):\n",
    "    return [sum(combination) for combination in product(*dice)]\n",
    "\n",
    "def undoom_dice(Die_A, Die_B):\n",
    "    sums_A_B = get_dice_sums([Die_A, Die_B])\n",
    "    possible_configs_A = product(range(1, 5), repeat=len(Die_A))\n",
    "    valid_configs_A = [config for config in possible_configs_A if get_dice_sums([config, Die_B]) == sums_A_B]\n",
    "    return valid_configs_A[0] if valid_configs_A else Die_A, Die_B\n",
    "\n",
    "# Get input from the user for Die_A and Die_B\n",
    "Die_A = list(map(int, input(\"Enter values for Die_A separated by spaces: \").split()))\n",
    "Die_B = list(map(int, input(\"Enter values for Die_B separated by spaces: \").split()))\n",
    "\n",
    "# Call the undoom_dice function with user-inputted dice\n",
    "new_die_A, new_die_B = undoom_dice(Die_A, Die_B)\n",
    "\n",
    "print(\"Modified Die_A:\", new_die_A)\n",
    "print(\"Modified Die_B:\", new_die_B)\n"
   ]
  },
  {
   "cell_type": "code",
   "execution_count": 3,
   "id": "14fbf0b7-ee5c-4bb8-8cb2-de1eb6d9a05d",
   "metadata": {},
   "outputs": [
    {
     "name": "stdin",
     "output_type": "stream",
     "text": [
      "Enter values for Die_A separated by spaces:  1 1 2 2 3 3\n",
      "Enter values for Die_B separated by spaces:  1 2 3 4 5 6\n"
     ]
    },
    {
     "name": "stdout",
     "output_type": "stream",
     "text": [
      "Modified Die_A: (1, 1, 2, 2, 3, 3)\n",
      "Modified Die_B: [1, 2, 3, 4, 5, 6]\n"
     ]
    }
   ],
   "source": [
    "from itertools import product\n",
    "\n",
    "def get_dice_sums(dice):\n",
    "    return [sum(combination) for combination in product(*dice)]\n",
    "\n",
    "def undoom_dice(Die_A, Die_B):\n",
    "    sums_A_B = get_dice_sums([Die_A, Die_B])\n",
    "    possible_configs_A = product(range(1, 5), repeat=len(Die_A))\n",
    "    valid_configs_A = [config for config in possible_configs_A if get_dice_sums([config, Die_B]) == sums_A_B]\n",
    "    return valid_configs_A[0] if valid_configs_A else Die_A, Die_B\n",
    "\n",
    "# Get input from the user for Die_A and Die_B\n",
    "Die_A = list(map(int, input(\"Enter values for Die_A separated by spaces: \").split()))\n",
    "Die_B = list(map(int, input(\"Enter values for Die_B separated by spaces: \").split()))\n",
    "\n",
    "# Call the undoom_dice function with user-inputted dice\n",
    "new_die_A, new_die_B = undoom_dice(Die_A, Die_B)\n",
    "\n",
    "print(\"Modified Die_A:\", new_die_A)\n",
    "print(\"Modified Die_B:\", new_die_B)\n"
   ]
  },
  {
   "cell_type": "code",
   "execution_count": null,
   "id": "d17d0ecb-44fd-43d9-8c35-4e3b13a88e06",
   "metadata": {},
   "outputs": [],
   "source": []
  }
 ],
 "metadata": {
  "kernelspec": {
   "display_name": "Python 3 (ipykernel)",
   "language": "python",
   "name": "python3"
  },
  "language_info": {
   "codemirror_mode": {
    "name": "ipython",
    "version": 3
   },
   "file_extension": ".py",
   "mimetype": "text/x-python",
   "name": "python",
   "nbconvert_exporter": "python",
   "pygments_lexer": "ipython3",
   "version": "3.12.0"
  }
 },
 "nbformat": 4,
 "nbformat_minor": 5
}
